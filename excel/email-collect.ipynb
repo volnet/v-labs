{
 "cells": [
  {
   "cell_type": "markdown",
   "metadata": {},
   "source": [
    "# Read email, collect attachments, merge rows"
   ]
  },
  {
   "cell_type": "markdown",
   "metadata": {},
   "source": [
    "pip install keyring"
   ]
  },
  {
   "cell_type": "code",
   "execution_count": null,
   "metadata": {},
   "outputs": [],
   "source": [
    "pip install imbox"
   ]
  },
  {
   "cell_type": "code",
   "execution_count": null,
   "metadata": {},
   "outputs": [],
   "source": [
    "pip install python-docx"
   ]
  },
  {
   "cell_type": "code",
   "execution_count": null,
   "metadata": {},
   "outputs": [],
   "source": [
    "pip install openpyxl"
   ]
  },
  {
   "cell_type": "code",
   "execution_count": null,
   "metadata": {},
   "outputs": [],
   "source": [
    "pip install yagmail"
   ]
  },
  {
   "cell_type": "code",
   "execution_count": null,
   "metadata": {},
   "outputs": [],
   "source": [
    "pip install pandas"
   ]
  },
  {
   "cell_type": "code",
   "execution_count": null,
   "metadata": {},
   "outputs": [],
   "source": [
    "pip install jinja2"
   ]
  },
  {
   "cell_type": "code",
   "execution_count": 87,
   "metadata": {},
   "outputs": [
    {
     "name": "stdout",
     "output_type": "stream",
     "text": [
      "mergeExcels ing, files count:6\n",
      "done\n"
     ]
    }
   ],
   "source": [
    "from imbox import Imbox\n",
    "from docx import Document\n",
    "from openpyxl import load_workbook, Workbook\n",
    "import os\n",
    "import glob\n",
    "from datetime import datetime\n",
    "import yagmail\n",
    "import pandas as pd\n",
    "from openpyxl.styles import PatternFill\n",
    "\n",
    "def makesurePath(path):\n",
    "    if not os.path.exists(path):\n",
    "        os.mkdir(path)\n",
    "\n",
    "def getAttachmentPathFromMessage(message, saveFolderName):\n",
    "    subject = message.subject\n",
    "    formateDate = message.date.replace(' ', '-').replace(':', '-')\n",
    "    emailFolderName = formateDate + '_' + subject\n",
    "    # saveFolderName2 = savePath + saveFolderName + '\\\\' + emailFolderName\n",
    "    saveFolderName2 = savePath + saveFolderName\n",
    "    return saveFolderName2\n",
    "\n",
    "def readEmail(imapServer, myEmailName, myPassword, savePath, saveFolderName, titleKeyword):\n",
    "    matchedMessages = []\n",
    "    \n",
    "    makesurePath(savePath + saveFolderName)\n",
    "\n",
    "    with Imbox(imapServer, myEmailName, myPassword) as imbox:\n",
    "        all_inbox_messages = imbox.messages()\n",
    "        for uid, message in all_inbox_messages:\n",
    "            lengthKeyword = len(titleKeyword)\n",
    "            if message.subject[:lengthKeyword] == titleKeyword:\n",
    "                matchedMessages.append(message)\n",
    "                if message.attachments:\n",
    "                    for attachment in message.attachments:\n",
    "                        saveFolderName2 = getAttachmentPathFromMessage(message, saveFolderName)\n",
    "                        makesurePath(saveFolderName2)\n",
    "                        attachmentFilePath = saveFolderName2 + fr'\\{attachment[\"filename\"]}'\n",
    "                        with open(attachmentFilePath, 'wb') as file:\n",
    "                            file.write(attachment['content'].getvalue())\n",
    "\n",
    "        return matchedMessages\n",
    "    \n",
    "def sendEmail(smtpServer, myEmailName, myPassword, targetEmailName, targetEmailTitle, targetEmailBody):\n",
    "    #return\n",
    "    mail = yagmail.SMTP(user=myEmailName, password=myPassword, host=smtpServer)\n",
    "    contents = [targetEmailBody]\n",
    "    mail.send(targetEmailName, targetEmailTitle, contents)\n",
    "\n",
    "def mergeExcels(excels, saveFileMerged, saveFileMergedNoduplicate):\n",
    "    print('mergeExcels ing, files count:' + str(len(excels)))\n",
    "    destination_workbook = Workbook()\n",
    "    destination_sheet = destination_workbook.active\n",
    "    destination_sheet.append(['序号','姓名','学号'])\n",
    "\n",
    "    for path in excels:\n",
    "        if not path.endswith('.xlsx'):\n",
    "            return\n",
    "        for file in glob.glob(path):\n",
    "            workbook = load_workbook(file)\n",
    "            source_sheet = workbook.active\n",
    "            for table_row in range(2, source_sheet.max_row + 1):\n",
    "                row_data = [source_sheet.cell(row=table_row, column=col).value for col in range(1, source_sheet.max_column + 1)]\n",
    "                destination_sheet.append(row_data)\n",
    "    \n",
    "    destination_workbook.save(saveFileMerged)\n",
    "\n",
    "    df = pd.read_excel(saveFileMerged)\n",
    "    duplicates = df[\"学号\"].duplicated()\n",
    "    duplicate_line_numbers =  [value + 2 for value in df[duplicates].index.tolist()]\n",
    "    markExcel(saveFileMerged, duplicate_line_numbers, saveFileMergedNoduplicate)\n",
    "\n",
    "def markExcel(excelFilePath, lineNumbers, saveFileMergedNoduplicate):\n",
    "    wb = load_workbook(excelFilePath)\n",
    "    ws = wb.active\n",
    "\n",
    "    for row_number in lineNumbers:\n",
    "        for col_number, cell in enumerate(ws[row_number], start=1):\n",
    "            cell.fill = PatternFill(start_color=\"FF0000\", end_color=\"FF0000\", fill_type=\"solid\")\n",
    "\n",
    "    wb.save(saveFileMergedNoduplicate)\n",
    "\n",
    "if __name__ == '__main__':\n",
    "    # Set the path to your file path\n",
    "    os.chdir('/')\n",
    "    imapServer = r'imap.126.com'\n",
    "    smtpServer = r'smtp.126.com'\n",
    "    savePath = r'C:\\Users\\yourname\\Downloads\\2023-11-16'\n",
    "    saveFolderName = r'\\attachments'\n",
    "    titleKeyword = 'Your Title keywords'\n",
    "\n",
    "    myEmailName = 'example@126.com'\n",
    "    myPassword = 'SSNQNGZSZKYSFTSX'\n",
    "\n",
    "    targetEmailTitle = '[Reply]Thank you for apply'\n",
    "    targetEmailBody = 'We are received your apply email.'\n",
    "\n",
    "    mergeExcelsPath = savePath + fr'\\merged.xlsx'\n",
    "    mergeExcelsNoDuplicatePath = savePath + fr'\\mergedNoDuplicate.xlsx'\n",
    "\n",
    "    matchedMessages = readEmail(imapServer, myEmailName, myPassword, savePath, saveFolderName, titleKeyword)\n",
    "    excels = []\n",
    "    for message in matchedMessages:\n",
    "        for attachment in message.attachments:\n",
    "            if(attachment[\"filename\"].endswith('.xlsx')):\n",
    "                saveFolderName2 = getAttachmentPathFromMessage(message, saveFolderName)\n",
    "                attachmentFilePath = saveFolderName2 + fr'\\{attachment[\"filename\"]}'\n",
    "                excels.append(attachmentFilePath)\n",
    "        responseEmail = message.sent_from[0][\"email\"]\n",
    "        sendEmail(smtpServer, myEmailName, myPassword, responseEmail, targetEmailTitle, targetEmailBody)\n",
    "    mergeExcels(excels, mergeExcelsPath, mergeExcelsNoDuplicatePath)\n",
    "    print('done')\n"
   ]
  }
 ],
 "metadata": {
  "kernelspec": {
   "display_name": "Python 3",
   "language": "python",
   "name": "python3"
  },
  "language_info": {
   "codemirror_mode": {
    "name": "ipython",
    "version": 3
   },
   "file_extension": ".py",
   "mimetype": "text/x-python",
   "name": "python",
   "nbconvert_exporter": "python",
   "pygments_lexer": "ipython3",
   "version": "3.7.6"
  }
 },
 "nbformat": 4,
 "nbformat_minor": 2
}
