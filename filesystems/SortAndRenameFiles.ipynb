{
 "cells": [
  {
   "cell_type": "code",
   "execution_count": 54,
   "metadata": {},
   "outputs": [
    {
     "name": "stdout",
     "output_type": "stream",
     "text": [
      "01.mp4 rename to 01.mp4\n",
      "02.mp4 rename to 02.mp4\n",
      "03.mp4 rename to 03.mp4\n",
      "04.mp4 rename to 04.mp4\n",
      "05.mp4 rename to 05.mp4\n",
      "06.mp4 rename to 06.mp4\n",
      "07.jpg rename to 07.jpg\n",
      "08.mp4 rename to 08.mp4\n",
      "09.mp4 rename to 09.mp4\n",
      "10.mp4 rename to 10.mp4\n",
      "11.mp4 rename to 11.mp4\n",
      "12.mp4 rename to 12.mp4\n",
      "13.mp4 rename to 13.mp4\n",
      "14.mp4 rename to 14.mp4\n",
      "15.mp4 rename to 15.mp4\n",
      "16.mp4 rename to 16.mp4\n",
      "17.mp4 rename to 17.mp4\n",
      "18.mp4 rename to 18.mp4\n",
      "19.mp4 rename to 19.mp4\n",
      "20.mp4 rename to 20.mp4\n"
     ]
    }
   ],
   "source": [
    "# 需求：某文件夹内的文件名按照顺序排列，但是不符合最终的整理要求，本方法可以直接将其批量重命名\n",
    "# sort and rename files to 01.mp4, 02.jpg, 03.png ...\n",
    "\n",
    "import os\n",
    "\n",
    "def sortAndRenameByName():\n",
    "    # init info\n",
    "    SUPPORT_FILE_TYPES = ('.mp4', '.jpg', '.png')\n",
    "    FILENAME_MIN_LENGTH = 2\n",
    "\n",
    "    files = [f for f in os.listdir('.') if f.endswith(SUPPORT_FILE_TYPES)]\n",
    "    # sort by filename\n",
    "    files = sorted(files)\n",
    "    \n",
    "    count = len(files)\n",
    "\n",
    "    if count >= 100:\n",
    "        fileNameLength = len(str(count))\n",
    "    else:\n",
    "        fileNameLength = FILENAME_MIN_LENGTH\n",
    "    nameRules = '{0:0>' + str(fileNameLength) + 's}'\n",
    "    \n",
    "    i = 0\n",
    "    for f in files:\n",
    "        i+=1\n",
    "        left = f\n",
    "        fPart = f.split('.')\n",
    "        right = nameRules.format(str(i)) + '.' + fPart[1]\n",
    "        print(left + ' rename to ' + right)\n",
    "        os.rename(f, right)\n",
    "        \n",
    "if __name__ == '__main__':\n",
    "    sortAndRenameByName()"
   ]
  },
  {
   "cell_type": "code",
   "execution_count": null,
   "metadata": {},
   "outputs": [],
   "source": []
  }
 ],
 "metadata": {
  "kernelspec": {
   "display_name": "Python 3",
   "language": "python",
   "name": "python3"
  },
  "language_info": {
   "codemirror_mode": {
    "name": "ipython",
    "version": 3
   },
   "file_extension": ".py",
   "mimetype": "text/x-python",
   "name": "python",
   "nbconvert_exporter": "python",
   "pygments_lexer": "ipython3",
   "version": "3.6.4"
  }
 },
 "nbformat": 4,
 "nbformat_minor": 2
}
