{
 "cells": [
  {
   "cell_type": "code",
   "execution_count": 42,
   "id": "d83c1f26",
   "metadata": {},
   "outputs": [
    {
     "name": "stdout",
     "output_type": "stream",
     "text": [
      "/Users/gongcen/VolnetGitHub/v-labs\n",
      "Running ... for some minitues ... Please waiting!\n",
      "Finished!\n"
     ]
    }
   ],
   "source": [
    "import os\n",
    "import sys\n",
    "def getFiles(targetPath, resultFile):\n",
    "    try:\n",
    "        with open(resultFile, 'w', encoding=\"utf-8\") as resultFile:\n",
    "            for (root,dirs,files) in os.walk(targetPath):\n",
    "                for f in files:\n",
    "                    filePath = root + '/' + f\n",
    "                    fileSize = os.path.getsize(filePath)\n",
    "                    print(filePath, '*', fileSize, file=resultFile)\n",
    "    except:\n",
    "        print(sys.exc_info, file=resultFile)\n",
    "\n",
    "if __name__ == '__main__':\n",
    "    # Set the path to your file path\n",
    "    # os.chdir('/TestPictures/')\n",
    "    # TARGET_PATH = '/Users/gongcen/VolnetGitHub/v-labs'\n",
    "    TARGET_PATH = '/Volumes/PicsBackup4/工作/06-丙晟'\n",
    "    RESULT_PATH = '/Users/gongcen/VolnetGitHub/v-labs/filesystems/CopyFilesBySizeResult.txt'\n",
    "    os.chdir(PATH)\n",
    "    print(os.getcwd())\n",
    "    print('Running ... for some minitues ... Please waiting!')\n",
    "    getFiles(TARGET_PATH, RESULT_PATH)\n",
    "    print('Finished!')"
   ]
  },
  {
   "cell_type": "code",
   "execution_count": null,
   "id": "6aa1ba59",
   "metadata": {},
   "outputs": [],
   "source": []
  },
  {
   "cell_type": "code",
   "execution_count": null,
   "id": "bac70017",
   "metadata": {},
   "outputs": [],
   "source": []
  }
 ],
 "metadata": {
  "kernelspec": {
   "display_name": "Python 3 (ipykernel)",
   "language": "python",
   "name": "python3"
  },
  "language_info": {
   "codemirror_mode": {
    "name": "ipython",
    "version": 3
   },
   "file_extension": ".py",
   "mimetype": "text/x-python",
   "name": "python",
   "nbconvert_exporter": "python",
   "pygments_lexer": "ipython3",
   "version": "3.9.12"
  }
 },
 "nbformat": 4,
 "nbformat_minor": 5
}
