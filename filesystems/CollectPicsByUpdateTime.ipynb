{
 "cells": [
  {
   "cell_type": "code",
   "execution_count": 40,
   "metadata": {},
   "outputs": [
    {
     "name": "stdout",
     "output_type": "stream",
     "text": [
      "/Users/gongcen/Pictures/HUAWEI/DCIM/Camera\n",
      "Finished!\n"
     ]
    }
   ],
   "source": [
    "# 文件夹中有很多照片/视频等文件\n",
    "# 希望能够按照“修改日期”进行归档（创建以日期为名字的目录，并将该日期修改的文件移动至其中）\n",
    "# 之所以不选择“创建日期”，是因为创建日期在文件移动（如复制到移动硬盘）等情况下，会发生变化。\n",
    "\n",
    "import os\n",
    "import time\n",
    "import shutil\n",
    "import re\n",
    "\n",
    "# 传入的参数为秒，如果是毫秒，需要/1000\n",
    "def convertUnixTimeSecondsToDirName(unixTimeSeconds):\n",
    "    timeFileName = time.strftime('%Y-%m-%d', time.localtime(unixTimeSeconds))\n",
    "    return timeFileName\n",
    "\n",
    "# 检测文件名是否包含有日期信息\n",
    "def detectFileNameTimeString(fileName):\n",
    "    result = ''\n",
    "    fileNameParts = re.split(r'[_.-]\\s*', fileName)\n",
    "    # IMG_20200319_213638.jpg or VID_20200315_163030.mp4\n",
    "    if len(fileNameParts) > 1 and len(fileNameParts[1]) == 8:\n",
    "        result = fileNameParts[1][0:4] + '-' + fileNameParts[1][4:6] + '-' + fileNameParts[1][6:8]\n",
    "    # mv_20200315180605.mp4\n",
    "    elif len(fileNameParts) > 1 and fileNameParts[0] == 'mv' and len(fileNameParts[1]) == 14:\n",
    "        result = fileNameParts[1][0:4] + '-' + fileNameParts[1][4:6] + '-' + fileNameParts[1][6:8]\n",
    "    # 2020-03-17-03-28-41-728.jpg\n",
    "    elif len(fileName) == 27 and len(fileNameParts) == 8:\n",
    "        result = fileName[0:10]\n",
    "    #pt2020_03_17_08_02_55.jpg\n",
    "    #pt2020_03_17_08_02_55_mh1584403415267.jpg\n",
    "    elif str(fileName).startswith('pt'):\n",
    "        result = fileName[2:6] + '-' + fileName[7:9] + '-' + fileName[10:12]\n",
    "    # SL_MO_VID_20200406_204623.mp4\n",
    "    elif str(fileName).startswith('SL_MO_VID_') and len(fileNameParts) > 3:\n",
    "        result = fileNameParts[3][0:4] + '-' + fileNameParts[3][4:6] + '-' + fileNameParts[3][6:8]\n",
    "    # Genie_mh1585312992820.jpg\n",
    "    elif str(fileName).startswith('Genie_mh') and len(fileName) == 25:\n",
    "        result = convertUnixTimeSecondsToDirName(int(str('Genie_mh1585312992820.jpg')[8:21]) / 1000)\n",
    "    # 1585372771448.mp4\n",
    "    elif len(fileName) == 17 and len(fileNameParts) == 2:\n",
    "        result = convertUnixTimeSecondsToDirName(int(fileNameParts[0])/1000)\n",
    "    else:\n",
    "        print(\"Not detect:\" + fileName)\n",
    "    return result\n",
    "\n",
    "def collectFiles():\n",
    "    SUPPORT_FILE_TYPES = ('.jpg', '.jpeg', '.png', '.mp4', '.mov', '.m4v')\n",
    "    \n",
    "    dic = {}\n",
    "    \n",
    "    files = [f for f in os.listdir() if f.lower().endswith(SUPPORT_FILE_TYPES)]\n",
    "    for f in files:\n",
    "        # 首先检查是否有名字中包含日期信息的，如果有的话，以文件名为准。\n",
    "        dirName = detectFileNameTimeString(f)\n",
    "        # 如果文件名中不含有日期信息，则利用文件的时间。\n",
    "        # 主要考虑到从手机复制文件到计算机中，会导致文件创建时间丢失，所以以文件名为主\n",
    "        if dirName == '':\n",
    "            x = os.stat(f)\n",
    "            dirName = convertUnixTimeSecondsToDirName(x.st_mtime)\n",
    "            \n",
    "        if(dirName in dic):\n",
    "            dic[dirName].append(f)\n",
    "        else:\n",
    "            dic[dirName] = []\n",
    "            dic[dirName].append(f)\n",
    "            \n",
    "    for k in dic.keys():\n",
    "        if not os.path.exists(k):\n",
    "            os.mkdir(k)\n",
    "        for f in dic[k]:\n",
    "            shutil.move(f, k)\n",
    "\n",
    "if __name__ == '__main__':\n",
    "    # Set the path to your file path\n",
    "    # os.chdir('/TestPictures/')\n",
    "    os.chdir('/Users/gongcen/Pictures/HUAWEI/DCIM/Camera')\n",
    "    print(os.getcwd() )\n",
    "    collectFiles()\n",
    "    print('Finished!')"
   ]
  },
  {
   "cell_type": "code",
   "execution_count": null,
   "metadata": {},
   "outputs": [],
   "source": []
  }
 ],
 "metadata": {
  "kernelspec": {
   "display_name": "Python 3 (ipykernel)",
   "language": "python",
   "name": "python3"
  },
  "language_info": {
   "codemirror_mode": {
    "name": "ipython",
    "version": 3
   },
   "file_extension": ".py",
   "mimetype": "text/x-python",
   "name": "python",
   "nbconvert_exporter": "python",
   "pygments_lexer": "ipython3",
   "version": "3.9.12"
  }
 },
 "nbformat": 4,
 "nbformat_minor": 2
}
