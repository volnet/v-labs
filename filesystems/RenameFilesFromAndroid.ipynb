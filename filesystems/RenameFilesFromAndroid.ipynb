{
 "cells": [
  {
   "cell_type": "code",
   "execution_count": 5,
   "metadata": {},
   "outputs": [
    {
     "name": "stdout",
     "output_type": "stream",
     "text": [
      "renameFiles start\n",
      "1.1539963969808.mp4 rename to 20181019234609-1539963969808.mp4\n",
      "2.microMsg.1579880297650.jpg rename to 20200124233817-microMsg.1579880297650.jpg\n",
      "3.mmexport1539963969808.jpg rename to 20181019234609-mmexport1539963969808.jpg\n",
      "4.mmexport1540050549655.jpeg rename to 20181020234909-mmexport1540050549655.jpeg\n"
     ]
    }
   ],
   "source": [
    "# \\tencent\\MicroMsg\\WeiXin\\*\n",
    "# Support File Name:\n",
    "# 1. mmexport1540050549655.jpg\n",
    "# 2. 1544445980949.mp4\n",
    "# 3. microMsg.1579880297650.jpg\n",
    "# 4. mmexport1540050549655.jpeg\n",
    "# They are concat by unixtime(milliseconds), transfer it to localtime for the real world.\n",
    "\n",
    "import os\n",
    "import time\n",
    "\n",
    "def convertUnixMillsecondsToLocalTime(unixTimeMillseconds):\n",
    "    unixTimeSeconds = unixTimeMillseconds / 1000\n",
    "    # timeStr = time.strftime('%Y-%m-%d %H:%M:%S', time.localtime(unixTimeSeconds))\n",
    "    timeFileName = time.strftime('%Y%m%d%H%M%S', time.localtime(unixTimeSeconds))\n",
    "    return timeFileName\n",
    "\n",
    "def concatNewFileName(oldFileName, unixTimeMillsecondsStartIndex, unixTimeMillsecondsEndIndex):\n",
    "    unixTimeMillseconds = int(oldFileName[unixTimeMillsecondsStartIndex:unixTimeMillsecondsEndIndex])\n",
    "    timeFileName = convertUnixMillsecondsToLocalTime(unixTimeMillseconds)\n",
    "    resultFileName = timeFileName + '-' + oldFileName\n",
    "    return resultFileName\n",
    "\n",
    "def renameFiles():\n",
    "    print('renameFiles start')\n",
    "    # init info\n",
    "    SUPPORT_FILE_TYPES = ('.jpg', '.jpeg', '.mp4')\n",
    "    SUPPORT_STARTWORDS = ('mmexport', 'wx_camera_', 'microMsg.')\n",
    "\n",
    "    files = [f for f in os.listdir() if f.lower().endswith(SUPPORT_FILE_TYPES)]\n",
    "\n",
    "    i = 0\n",
    "    for f in files:\n",
    "        resultFileName = ''\n",
    "        if len(f) is 17:\n",
    "            try:\n",
    "                resultFileName = concatNewFileName(f, 0, 13)\n",
    "                i += 1\n",
    "            except:\n",
    "                print('Not right filename: ' + f)\n",
    "        else:\n",
    "            for startword in SUPPORT_STARTWORDS:\n",
    "                if f.startswith(startword):\n",
    "                    length = len(startword)\n",
    "                    resultFileName = concatNewFileName(f, length, length + 13)\n",
    "                    i += 1\n",
    "                \n",
    "        if len(resultFileName) != 0:\n",
    "            print(str(i) + '.' + f + ' rename to ' + resultFileName)\n",
    "            os.rename(f, resultFileName)   \n",
    "        \n",
    "    if i is 0:\n",
    "        print(\"No matched.\")\n",
    "        \n",
    "if __name__ == '__main__':\n",
    "    # Set the path to your file path\n",
    "    os.chdir('SampleFiles/')\n",
    "    renameFiles()"
   ]
  },
  {
   "cell_type": "code",
   "execution_count": null,
   "metadata": {},
   "outputs": [],
   "source": []
  }
 ],
 "metadata": {
  "kernelspec": {
   "display_name": "Python 3",
   "language": "python",
   "name": "python3"
  },
  "language_info": {
   "codemirror_mode": {
    "name": "ipython",
    "version": 3
   },
   "file_extension": ".py",
   "mimetype": "text/x-python",
   "name": "python",
   "nbconvert_exporter": "python",
   "pygments_lexer": "ipython3",
   "version": "3.6.4"
  }
 },
 "nbformat": 4,
 "nbformat_minor": 2
}
