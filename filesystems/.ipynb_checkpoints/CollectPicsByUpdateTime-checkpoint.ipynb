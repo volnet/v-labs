{
 "cells": [
  {
   "cell_type": "code",
   "execution_count": 52,
   "metadata": {},
   "outputs": [
    {
     "name": "stdout",
     "output_type": "stream",
     "text": [
      "/Users/gongcen/Pictures/TestPictures\n"
     ]
    }
   ],
   "source": [
    "# 文件夹中有很多照片/视频等文件\n",
    "# 希望能够按照“修改日期”进行归档（创建以日期为名字的目录，并将该日期修改的文件移动至其中）\n",
    "# 之所以不选择“创建日期”，是因为创建日期在文件移动（如复制到移动硬盘）等情况下，会发生变化。\n",
    "\n",
    "import os\n",
    "import time\n",
    "import shutil\n",
    "\n",
    "def convertUnixTimeSecondsToDirName(unixTimeSeconds):\n",
    "    timeFileName = time.strftime('%Y-%m-%d', time.localtime(unixTimeSeconds))\n",
    "    return timeFileName\n",
    "\n",
    "def readFiles():\n",
    "    SUPPORT_FILE_TYPES = ('.jpg', '.jpeg', '.png', '.mp4', '.mov', '.m4v')\n",
    "    \n",
    "    dic = {}\n",
    "    \n",
    "    files = [f for f in os.listdir() if f.lower().endswith(SUPPORT_FILE_TYPES)]\n",
    "    for f in files:\n",
    "        x = os.stat(f)\n",
    "        dirName = convertUnixTimeSecondsToDirName(x.st_mtime)\n",
    "        if(dirName in dic):\n",
    "            dic[dirName].append(f)\n",
    "        else:\n",
    "            dic[dirName] = []\n",
    "            dic[dirName].append(f)\n",
    "            \n",
    "    for k in dic.keys():\n",
    "        if not os.path.exists(k):\n",
    "            os.mkdir(k)\n",
    "        for f in dic[k]:\n",
    "            shutil.move(f, k)\n",
    "\n",
    "if __name__ == '__main__':\n",
    "    # Set the path to your file path\n",
    "    # os.chdir('/TestPictures/')\n",
    "    os.chdir('//Volumes/PicsBackup4/Personal/Pics/iPhone Export/JPG/')\n",
    "    print(os.getcwd() )\n",
    "    readFiles()"
   ]
  },
  {
   "cell_type": "code",
   "execution_count": null,
   "metadata": {},
   "outputs": [],
   "source": []
  },
  {
   "cell_type": "code",
   "execution_count": null,
   "metadata": {},
   "outputs": [],
   "source": []
  },
  {
   "cell_type": "code",
   "execution_count": null,
   "metadata": {},
   "outputs": [],
   "source": []
  }
 ],
 "metadata": {
  "kernelspec": {
   "display_name": "Python 3",
   "language": "python",
   "name": "python3"
  },
  "language_info": {
   "codemirror_mode": {
    "name": "ipython",
    "version": 3
   },
   "file_extension": ".py",
   "mimetype": "text/x-python",
   "name": "python",
   "nbconvert_exporter": "python",
   "pygments_lexer": "ipython3",
   "version": "3.6.4"
  }
 },
 "nbformat": 4,
 "nbformat_minor": 2
}
