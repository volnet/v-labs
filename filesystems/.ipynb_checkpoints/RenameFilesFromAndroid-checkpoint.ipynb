{
 "cells": [
  {
   "cell_type": "code",
   "execution_count": 26,
   "metadata": {},
   "outputs": [
    {
     "name": "stdout",
     "output_type": "stream",
     "text": [
      "renameJPGFile start\n",
      "1.mmexport1539963969808.jpg rename to 20181019234609-mmexport1539963969808.jpg\n",
      "renameMP4File start\n",
      "1.1539963969808.mp4 rename to 20181019234609-1539963969808.mp4\n"
     ]
    }
   ],
   "source": [
    "# \\tencent\\MicroMsg\\WeiXin\\*\n",
    "# Support File Name:\n",
    "# 1. mmexport1540050549655.jpg\n",
    "# 2. 1544445980949.mp4\n",
    "# They are concat by unixtime(milliseconds), transfer it to localtime for the real world.\n",
    "\n",
    "import os\n",
    "import time\n",
    "\n",
    "def renameJPGFile():\n",
    "    print('renameJPGFile start')\n",
    "    # init info\n",
    "    SUPPORT_FILE_TYPES = ('.jpg')\n",
    "\n",
    "    files = [f for f in os.listdir() if f.endswith(SUPPORT_FILE_TYPES)]\n",
    "\n",
    "    i = 0\n",
    "    for f in files:\n",
    "        if f.startswith(\"mmexport\"):\n",
    "            i += 1\n",
    "            unixTimeMillseconds = int(f[8:21])\n",
    "            unixTimeSeconds = unixTimeMillseconds / 1000\n",
    "            # timeStr = time.strftime('%Y-%m-%d %H:%M:%S', time.localtime(unixTimeSeconds))\n",
    "            timeFileName = time.strftime('%Y%m%d%H%M%S', time.localtime(unixTimeSeconds))\n",
    "            resultFileName = timeFileName + '-' + f\n",
    "            print(str(i) + '.' + f + ' rename to ' + resultFileName)\n",
    "            os.rename(f, resultFileName)\n",
    "            \n",
    "    if i is 0:\n",
    "        print(\"No matched.\")\n",
    "\n",
    "def renameMP4File():\n",
    "    print('renameMP4File start')\n",
    "    # init info\n",
    "    SUPPORT_FILE_TYPES = ('.mp4')\n",
    "\n",
    "    files = [f for f in os.listdir() if f.endswith(SUPPORT_FILE_TYPES)]\n",
    "\n",
    "    i = 0\n",
    "    for f in files:\n",
    "        fileName = f.split('.')[0]\n",
    "        if len(fileName) is 13:\n",
    "            unixTimeMillseconds = 0\n",
    "            try:\n",
    "                unixTimeMillseconds = int(fileName)\n",
    "            except:\n",
    "                print('Not right filename: ' + f)\n",
    "            i += 1\n",
    "            unixTimeSeconds = unixTimeMillseconds / 1000\n",
    "            # timeStr = time.strftime('%Y-%m-%d %H:%M:%S', time.localtime(unixTimeSeconds))\n",
    "            timeFileName = time.strftime('%Y%m%d%H%M%S', time.localtime(unixTimeSeconds))\n",
    "            resultFileName = timeFileName + '-' + f\n",
    "            print(str(i) + '.' + f + ' rename to ' + resultFileName)\n",
    "            os.rename(f, resultFileName)\n",
    "            \n",
    "    if i is 0:\n",
    "        print(\"No matched.\")\n",
    "        \n",
    "if __name__ == '__main__':\n",
    "    # Set the path to your file path\n",
    "    os.chdir('/v-labs/filesystems/SampleFiles')\n",
    "    renameJPGFile()\n",
    "    renameMP4File()"
   ]
  }
 ],
 "metadata": {
  "kernelspec": {
   "display_name": "Python 3",
   "language": "python",
   "name": "python3"
  },
  "language_info": {
   "codemirror_mode": {
    "name": "ipython",
    "version": 3
   },
   "file_extension": ".py",
   "mimetype": "text/x-python",
   "name": "python",
   "nbconvert_exporter": "python",
   "pygments_lexer": "ipython3",
   "version": "3.6.4"
  }
 },
 "nbformat": 4,
 "nbformat_minor": 2
}
