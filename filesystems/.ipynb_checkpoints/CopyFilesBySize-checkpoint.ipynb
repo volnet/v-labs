{
 "cells": [
  {
   "cell_type": "code",
   "execution_count": 23,
   "id": "31df6932",
   "metadata": {},
   "outputs": [
    {
     "name": "stdout",
     "output_type": "stream",
     "text": [
      "/Users/gongcen/VolnetGitHub/v-labs\n",
      "Finished!\n"
     ]
    }
   ],
   "source": [
    "import os\n",
    "def getFiles(targetPath, resultFile):\n",
    "    with open(resultFile, 'w') as resultFile:\n",
    "        for (root,dirs,files) in os.walk(targetPath):\n",
    "            for f in files:\n",
    "                filePath = root + '/' + f\n",
    "                fileSize = os.path.getsize(filePath)\n",
    "                print(filePath, ',', fileSize, file=resultFile)\n",
    "\n",
    "if __name__ == '__main__':\n",
    "    # Set the path to your file path\n",
    "    # os.chdir('/TestPictures/')\n",
    "    TARGET_PATH = '/Users/gongcen/VolnetGitHub/v-labs'\n",
    "    RESULT_PATH = '/Users/gongcen/VolnetGitHub/v-labs/filesystems/CopyFilesBySizeResult.csv'\n",
    "    os.chdir(PATH)\n",
    "    print(os.getcwd())\n",
    "    getFiles(TARGET_PATH, RESULT_PATH)\n",
    "    print('Finished!')"
   ]
  },
  {
   "cell_type": "code",
   "execution_count": null,
   "id": "02e0ec84",
   "metadata": {},
   "outputs": [],
   "source": []
  }
 ],
 "metadata": {
  "kernelspec": {
   "display_name": "Python 3 (ipykernel)",
   "language": "python",
   "name": "python3"
  },
  "language_info": {
   "codemirror_mode": {
    "name": "ipython",
    "version": 3
   },
   "file_extension": ".py",
   "mimetype": "text/x-python",
   "name": "python",
   "nbconvert_exporter": "python",
   "pygments_lexer": "ipython3",
   "version": "3.9.12"
  }
 },
 "nbformat": 4,
 "nbformat_minor": 5
}
